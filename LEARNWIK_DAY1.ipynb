{
  "nbformat": 4,
  "nbformat_minor": 0,
  "metadata": {
    "colab": {
      "provenance": []
    },
    "kernelspec": {
      "name": "python3",
      "display_name": "Python 3"
    },
    "language_info": {
      "name": "python"
    }
  },
  "cells": [
    {
      "cell_type": "code",
      "execution_count": null,
      "metadata": {
        "id": "xPLLFp-4hFmD",
        "colab": {
          "base_uri": "https://localhost:8080/"
        },
        "outputId": "14e51718-85b6-4883-928c-701300a0ed8b"
      },
      "outputs": [
        {
          "output_type": "stream",
          "name": "stdout",
          "text": [
            "1\n"
          ]
        }
      ],
      "source": [
        "print (1)"
      ]
    },
    {
      "cell_type": "code",
      "source": [
        "num=100  #Dynamic Typeing ,variable reassign executes each line\n",
        "print(num)\n",
        "num=\"skr\"\n",
        "print(num)\n",
        "num=4.5\n",
        "print(num)\n"
      ],
      "metadata": {
        "id": "uzMykMn9hybe",
        "colab": {
          "base_uri": "https://localhost:8080/"
        },
        "outputId": "acf687cb-ea72-4968-90fa-1697ba16dfec"
      },
      "execution_count": null,
      "outputs": [
        {
          "output_type": "stream",
          "name": "stdout",
          "text": [
            "100\n",
            "skr\n",
            "4.5\n"
          ]
        }
      ]
    },
    {
      "cell_type": "code",
      "source": [
        "print(\"1\"+\"2\") #string concatenation"
      ],
      "metadata": {
        "colab": {
          "base_uri": "https://localhost:8080/"
        },
        "id": "_wbSJzmXqy3T",
        "outputId": "cb2960a5-f19c-455f-ef19-d907cd7427b6"
      },
      "execution_count": null,
      "outputs": [
        {
          "output_type": "stream",
          "name": "stdout",
          "text": [
            "12\n"
          ]
        }
      ]
    },
    {
      "cell_type": "code",
      "source": [
        "first=\"srini\"\n",
        "last=\"vasa\"\n",
        "print(first+\" \"+last) #string concatination with space"
      ],
      "metadata": {
        "colab": {
          "base_uri": "https://localhost:8080/"
        },
        "id": "2lrdydJtsQ93",
        "outputId": "9437a629-91b0-4d5c-bf7a-f8dfb5930f08"
      },
      "execution_count": null,
      "outputs": [
        {
          "output_type": "stream",
          "name": "stdout",
          "text": [
            "srini vasa\n"
          ]
        }
      ]
    },
    {
      "cell_type": "code",
      "source": [
        "a=20\n",
        "b=90\n",
        "print(a+b)  #line by line execution"
      ],
      "metadata": {
        "colab": {
          "base_uri": "https://localhost:8080/"
        },
        "id": "hGCiKuXvsy-K",
        "outputId": "1aa9da61-a186-4d47-e5b9-edf5673622d0"
      },
      "execution_count": null,
      "outputs": [
        {
          "output_type": "stream",
          "name": "stdout",
          "text": [
            "110\n"
          ]
        }
      ]
    },
    {
      "cell_type": "code",
      "source": [
        "#variable must start with letter or underscore\n",
        "abc=20\n",
        "Abc=90\n",
        "#variable are case senstive\n"
      ],
      "metadata": {
        "id": "VGsBGEVytqak"
      },
      "execution_count": null,
      "outputs": []
    },
    {
      "cell_type": "code",
      "source": [
        "#single line comment\n",
        "20\n",
        "\"\"\" multi line\n",
        "comment \"\"\"\n",
        "40"
      ],
      "metadata": {
        "colab": {
          "base_uri": "https://localhost:8080/"
        },
        "id": "hUgOleAYvqE-",
        "outputId": "9f7a38ba-f17d-4acb-d8db-c6d0d78a802a"
      },
      "execution_count": null,
      "outputs": [
        {
          "output_type": "stream",
          "name": "stdout",
          "text": [
            "20\n"
          ]
        },
        {
          "output_type": "execute_result",
          "data": {
            "text/plain": [
              "40"
            ]
          },
          "metadata": {},
          "execution_count": 15
        }
      ]
    },
    {
      "cell_type": "code",
      "source": [
        "#type cast : datatype convert\n",
        "a=\"123\"\n",
        "print(type(a))\n",
        "b=(float(a))\n",
        "print(type(b))"
      ],
      "metadata": {
        "colab": {
          "base_uri": "https://localhost:8080/",
          "height": 0
        },
        "id": "wt7U1aMRwGqf",
        "outputId": "730b5ca8-a7a1-44dc-b12d-1f36ccc36a92"
      },
      "execution_count": 1,
      "outputs": [
        {
          "output_type": "stream",
          "name": "stdout",
          "text": [
            "<class 'str'>\n",
            "<class 'float'>\n"
          ]
        }
      ]
    },
    {
      "cell_type": "code",
      "source": [
        "a=\"123\"\n",
        "print(int(a)) #converting to datatype= typecast"
      ],
      "metadata": {
        "colab": {
          "base_uri": "https://localhost:8080/"
        },
        "id": "gThWiRHFy3uM",
        "outputId": "518b4cd6-e75e-424d-b409-f0f66ab48295"
      },
      "execution_count": null,
      "outputs": [
        {
          "output_type": "stream",
          "name": "stdout",
          "text": [
            "123\n"
          ]
        }
      ]
    },
    {
      "cell_type": "code",
      "source": [
        "a=\"123\"\n",
        "b=float(a)\n",
        "print(type(a),type(b))"
      ],
      "metadata": {
        "colab": {
          "base_uri": "https://localhost:8080/"
        },
        "id": "n61GymwczalO",
        "outputId": "3d70562d-990a-4cda-848d-06ccd085eee4"
      },
      "execution_count": null,
      "outputs": [
        {
          "output_type": "stream",
          "name": "stdout",
          "text": [
            "<class 'str'> <class 'float'>\n"
          ]
        }
      ]
    },
    {
      "cell_type": "markdown",
      "source": [
        "Operation with typecasting"
      ],
      "metadata": {
        "id": "a6Kvir941XQ1"
      }
    },
    {
      "cell_type": "code",
      "source": [
        "a=\"123\"\n",
        "print(int(a)+9)"
      ],
      "metadata": {
        "colab": {
          "base_uri": "https://localhost:8080/"
        },
        "id": "0it-l3OR1cJj",
        "outputId": "bf092345-6e4e-4f00-b6c5-b0aef0e4cb46"
      },
      "execution_count": null,
      "outputs": [
        {
          "output_type": "stream",
          "name": "stdout",
          "text": [
            "132\n"
          ]
        }
      ]
    },
    {
      "cell_type": "code",
      "source": [
        "a=12\n",
        "b=(float(a))\n",
        "print(b)"
      ],
      "metadata": {
        "colab": {
          "base_uri": "https://localhost:8080/"
        },
        "id": "Fz4mShbV1-9v",
        "outputId": "f569794b-f091-4b51-9e08-2f00acff8329"
      },
      "execution_count": null,
      "outputs": [
        {
          "output_type": "stream",
          "name": "stdout",
          "text": [
            "12.0\n"
          ]
        }
      ]
    },
    {
      "cell_type": "markdown",
      "source": [
        "String Formating"
      ],
      "metadata": {
        "id": "GtOD0EBQht1l"
      }
    },
    {
      "cell_type": "code",
      "source": [
        "a =\"hi\"\n",
        "b =\"hello\"\n",
        "\n",
        "print (\"he said \"+a) #see the space carefully"
      ],
      "metadata": {
        "colab": {
          "base_uri": "https://localhost:8080/",
          "height": 0
        },
        "id": "XbFcJkXyhqJL",
        "outputId": "0b783e31-94a5-4d2b-da6f-135cda836744"
      },
      "execution_count": 5,
      "outputs": [
        {
          "output_type": "stream",
          "name": "stdout",
          "text": [
            "he said hi\n"
          ]
        }
      ]
    }
  ]
}